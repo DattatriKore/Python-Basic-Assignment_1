{
 "cells": [
  {
   "cell_type": "markdown",
   "id": "e9317ff3",
   "metadata": {},
   "source": [
    "Q.[1] : In the below elements which of them are values or an expression? eg:- values can be\n",
    "        integer or string and expressions will be mathematical operators.\n",
    "*\n",
    "'hello'\n",
    "-87.8\n",
    "-\n",
    "/\n",
    "+\n",
    "6\n",
    "\n",
    "Ans:-      *  -> expression\n",
    "      'hello' -> value\n",
    "       -87.8  -> value\n",
    "           -  -> expression\n",
    "           /  -> expression\n",
    "           +  -> expression\n",
    "           6  -> value"
   ]
  },
  {
   "cell_type": "markdown",
   "id": "6752f379",
   "metadata": {},
   "source": [
    "Q.[2] : What is the difference between string and variable?\n",
    "\n",
    "Ans:- Variable:-  Variable is a name given to the memory location where the values is stored in the memory - a variables                     are containers for storing data value, a python variable can take any values, like, int, float or string. \n",
    "                  Example numA = 20, numB = 24.2, name = 'Dattatri'\n",
    "\n",
    "        String:- String represents a text value enclosed with in two double quotes or two single quotes. \n",
    "                 Example \"Dattatri\", \"DK\"\n",
    "                 "
   ]
  },
  {
   "cell_type": "markdown",
   "id": "a2dd2d4e",
   "metadata": {},
   "source": [
    "Q.[3] : Describe three different data types.\n",
    "\n",
    "Ans:- Three data types in python\n",
    "      int    - A positive or negative whole number without a decimal point. example  a = 20\n",
    "      float  - A positive or negative whole number with a decimal point. b = 24.2\n",
    "      string - any text with in two single or double quotes. c = \"Dattatri\""
   ]
  },
  {
   "cell_type": "markdown",
   "id": "9f19cc36",
   "metadata": {},
   "source": [
    "Q.[4] : What is an expression made up of? What do all expressions do?\n",
    "\n",
    "Ans:-  An Expression is a combination of variables and operators. There expressions perform operation of variable based on \n",
    "       the operators and evaluates the values to a single variable."
   ]
  },
  {
   "cell_type": "code",
   "execution_count": 1,
   "id": "fd627049",
   "metadata": {},
   "outputs": [
    {
     "name": "stdout",
     "output_type": "stream",
     "text": [
      "The sum of a and b is: 44\n"
     ]
    }
   ],
   "source": [
    "a = 20\n",
    "b = 24\n",
    "\n",
    "c = a + b\n",
    "\n",
    "print(f\"The sum of a and b is: {c}\")"
   ]
  },
  {
   "cell_type": "markdown",
   "id": "9e15d5e4",
   "metadata": {},
   "source": [
    "Q.[5] : This assignment statements, like spam = 10. What is the difference between an expression and a statement?\n",
    "\n",
    "Ans:- - The assignemnt statemets assign a value to the variable.\n",
    "      - The expressions evalues the value to a variable.\n",
    "      - in spam = 10 , value 10 in assigned to spam, and now spam will have value 10.\n",
    "      - But in expression a = C+B, the value depends on the value of C and B."
   ]
  },
  {
   "cell_type": "markdown",
   "id": "3da9787b",
   "metadata": {},
   "source": [
    "Q.[6] : After running the following code, what does the variable bacon contain?\n",
    "        bacon = 22\n",
    "        bacon + 1\n",
    "        \n",
    "Ans:-   23       "
   ]
  },
  {
   "cell_type": "code",
   "execution_count": 2,
   "id": "b40af947",
   "metadata": {},
   "outputs": [
    {
     "data": {
      "text/plain": [
       "23"
      ]
     },
     "execution_count": 2,
     "metadata": {},
     "output_type": "execute_result"
    }
   ],
   "source": [
    "bacon = 22\n",
    "bacon + 1"
   ]
  },
  {
   "cell_type": "markdown",
   "id": "57a5e1e1",
   "metadata": {},
   "source": [
    "Q.[7] : What should the values of the following two terms be?\n",
    "       'spam' + 'spamspam'\n",
    "       'spam' * 3\n",
    "       \n",
    "Ans:-  'spam' + 'spamspam'-> 'spamspamspam'\n",
    "       'spam' * 3         -> 'spamspamspam'"
   ]
  },
  {
   "cell_type": "code",
   "execution_count": 3,
   "id": "d4a1480d",
   "metadata": {},
   "outputs": [
    {
     "data": {
      "text/plain": [
       "'spamspamspam'"
      ]
     },
     "execution_count": 3,
     "metadata": {},
     "output_type": "execute_result"
    }
   ],
   "source": [
    " 'spam' + 'spamspam'"
   ]
  },
  {
   "cell_type": "code",
   "execution_count": 4,
   "id": "c6b335aa",
   "metadata": {},
   "outputs": [
    {
     "data": {
      "text/plain": [
       "'spamspamspam'"
      ]
     },
     "execution_count": 4,
     "metadata": {},
     "output_type": "execute_result"
    }
   ],
   "source": [
    "'spam' * 3"
   ]
  },
  {
   "cell_type": "markdown",
   "id": "34b50808",
   "metadata": {},
   "source": [
    "Q.[8] : Why is eggs a valid variable name while 100 is invalid?\n",
    "\n",
    "Ans:- Variable name can not starts with numbers\n"
   ]
  },
  {
   "cell_type": "code",
   "execution_count": 5,
   "id": "6ba09f74",
   "metadata": {},
   "outputs": [
    {
     "data": {
      "text/plain": [
       "20"
      ]
     },
     "execution_count": 5,
     "metadata": {},
     "output_type": "execute_result"
    }
   ],
   "source": [
    "eggs = 20\n",
    "eggs"
   ]
  },
  {
   "cell_type": "code",
   "execution_count": 6,
   "id": "d368714f",
   "metadata": {},
   "outputs": [
    {
     "ename": "SyntaxError",
     "evalue": "cannot assign to literal (1715640892.py, line 1)",
     "output_type": "error",
     "traceback": [
      "\u001b[1;36m  Input \u001b[1;32mIn [6]\u001b[1;36m\u001b[0m\n\u001b[1;33m    100 = \"hundres\"\u001b[0m\n\u001b[1;37m    ^\u001b[0m\n\u001b[1;31mSyntaxError\u001b[0m\u001b[1;31m:\u001b[0m cannot assign to literal\n"
     ]
    }
   ],
   "source": [
    "100 = \"hundres\"\n",
    "100"
   ]
  },
  {
   "cell_type": "markdown",
   "id": "d5e56ab6",
   "metadata": {},
   "source": [
    "Q.[9] : What three functions can be used to get the integer, floating-point number, or string version of a value?\n",
    "\n",
    "Ans:- The following functions are\n",
    "    - int()\n",
    "    - float()\n",
    "    - str()  \n",
    "      will convert the values to integer, float or string versions of the values passed to them\n",
    "     "
   ]
  },
  {
   "cell_type": "code",
   "execution_count": 8,
   "id": "90b21ec4",
   "metadata": {},
   "outputs": [
    {
     "name": "stdout",
     "output_type": "stream",
     "text": [
      "20.0\n"
     ]
    }
   ],
   "source": [
    "a = 20.0\n",
    "print(a) "
   ]
  },
  {
   "cell_type": "code",
   "execution_count": 9,
   "id": "81c7edd1",
   "metadata": {},
   "outputs": [
    {
     "data": {
      "text/plain": [
       "20"
      ]
     },
     "execution_count": 9,
     "metadata": {},
     "output_type": "execute_result"
    }
   ],
   "source": [
    "int(a)"
   ]
  },
  {
   "cell_type": "code",
   "execution_count": 10,
   "id": "b3794100",
   "metadata": {},
   "outputs": [
    {
     "name": "stdout",
     "output_type": "stream",
     "text": [
      "24\n"
     ]
    }
   ],
   "source": [
    "b = 24\n",
    "print(b)"
   ]
  },
  {
   "cell_type": "code",
   "execution_count": 11,
   "id": "3d26a8a9",
   "metadata": {},
   "outputs": [
    {
     "data": {
      "text/plain": [
       "24.0"
      ]
     },
     "execution_count": 11,
     "metadata": {},
     "output_type": "execute_result"
    }
   ],
   "source": [
    "float(b)"
   ]
  },
  {
   "cell_type": "code",
   "execution_count": 12,
   "id": "f8d3f911",
   "metadata": {},
   "outputs": [
    {
     "name": "stdout",
     "output_type": "stream",
     "text": [
      "28\n"
     ]
    }
   ],
   "source": [
    "c = 28\n",
    "print(c)"
   ]
  },
  {
   "cell_type": "code",
   "execution_count": 13,
   "id": "e6ffc1d3",
   "metadata": {},
   "outputs": [
    {
     "data": {
      "text/plain": [
       "'28'"
      ]
     },
     "execution_count": 13,
     "metadata": {},
     "output_type": "execute_result"
    }
   ],
   "source": [
    " str(c)"
   ]
  },
  {
   "cell_type": "markdown",
   "id": "166cb0a8",
   "metadata": {},
   "source": [
    "Q[10] : Why does this expression cause an error? How can you fix it?\n",
    "       'I have eaten' + 99 + 'burritos.'\n",
    "        \n",
    "Ans:-  This will error out since string concatination with interger values can not be performed.\n",
    "       This can be fixed by converting 99 into string by str(99)\n",
    "       \n",
    "       'I have eaten ' + str(99) + ' burritos.'"
   ]
  },
  {
   "cell_type": "code",
   "execution_count": 14,
   "id": "a7dcbe76",
   "metadata": {},
   "outputs": [
    {
     "ename": "TypeError",
     "evalue": "can only concatenate str (not \"int\") to str",
     "output_type": "error",
     "traceback": [
      "\u001b[1;31m---------------------------------------------------------------------------\u001b[0m",
      "\u001b[1;31mTypeError\u001b[0m                                 Traceback (most recent call last)",
      "Input \u001b[1;32mIn [14]\u001b[0m, in \u001b[0;36m<cell line: 1>\u001b[1;34m()\u001b[0m\n\u001b[1;32m----> 1\u001b[0m \u001b[38;5;124;43m'\u001b[39;49m\u001b[38;5;124;43mI have eaten\u001b[39;49m\u001b[38;5;124;43m'\u001b[39;49m\u001b[43m \u001b[49m\u001b[38;5;241;43m+\u001b[39;49m\u001b[43m \u001b[49m\u001b[38;5;241;43m99\u001b[39;49m \u001b[38;5;241m+\u001b[39m \u001b[38;5;124m'\u001b[39m\u001b[38;5;124mburritos.\u001b[39m\u001b[38;5;124m'\u001b[39m\n",
      "\u001b[1;31mTypeError\u001b[0m: can only concatenate str (not \"int\") to str"
     ]
    }
   ],
   "source": [
    "'I have eaten' + 99 + 'burritos.'"
   ]
  },
  {
   "cell_type": "code",
   "execution_count": 16,
   "id": "f9ba5375",
   "metadata": {},
   "outputs": [
    {
     "data": {
      "text/plain": [
       "'I have eaten 99 burritos.'"
      ]
     },
     "execution_count": 16,
     "metadata": {},
     "output_type": "execute_result"
    }
   ],
   "source": [
    "'I have eaten ' + str(99) + ' burritos.'"
   ]
  },
  {
   "cell_type": "code",
   "execution_count": null,
   "id": "cbd84d21",
   "metadata": {},
   "outputs": [],
   "source": []
  }
 ],
 "metadata": {
  "kernelspec": {
   "display_name": "Python 3 (ipykernel)",
   "language": "python",
   "name": "python3"
  },
  "language_info": {
   "codemirror_mode": {
    "name": "ipython",
    "version": 3
   },
   "file_extension": ".py",
   "mimetype": "text/x-python",
   "name": "python",
   "nbconvert_exporter": "python",
   "pygments_lexer": "ipython3",
   "version": "3.9.12"
  }
 },
 "nbformat": 4,
 "nbformat_minor": 5
}
